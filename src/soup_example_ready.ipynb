{
 "cells": [
  {
   "cell_type": "markdown",
   "metadata": {},
   "source": [
    "# Importando e rodando beautifulsoup\n",
    "\n",
    "- - - \n",
    "\n",
    "<br>\n",
    "<br>\n",
    "<br>\n",
    "<br>\n",
    "<br>\n",
    "<br>\n",
    "<br>\n",
    "<br>\n",
    "<br>\n",
    "<br>\n",
    "<br>\n",
    "<br>"
   ]
  },
  {
   "cell_type": "code",
   "execution_count": 1,
   "metadata": {},
   "outputs": [],
   "source": [
    "from bs4 import BeautifulSoup"
   ]
  },
  {
   "cell_type": "code",
   "execution_count": 2,
   "metadata": {},
   "outputs": [],
   "source": [
    "soup = BeautifulSoup(open(\"sample_html_ready.html\"), \"lxml\")"
   ]
  },
  {
   "cell_type": "code",
   "execution_count": 3,
   "metadata": {},
   "outputs": [
    {
     "name": "stdout",
     "output_type": "stream",
     "text": [
      "['html', <html lang=\"en-US\">\n",
      "<head>\n",
      "<meta charset=\"utf-8\"/>\n",
      "<title>Ola pessoal</title>\n",
      "</head>\n",
      "<body>\n",
      "<h1>Título</h1>\n",
      "<p>Aqui podemos ter um monte de texto</p>\n",
      "<ul id=\"Lista não ordenada 1\">\n",
      "<li>Element 1</li>\n",
      "<li>Element 2</li>\n",
      "<li>Element 3</li>\n",
      "</ul>\n",
      "<ul id=\"hmm\">\n",
      "<li>la</li>\n",
      "<li>lala</li>\n",
      "<li>lalala</li>\n",
      "</ul>\n",
      "<h2 id=\"hmm\"> hmm </h2>\n",
      "<h2>Título menor</h2>\n",
      "</body>\n",
      "</html>, '\\n']\n"
     ]
    }
   ],
   "source": [
    "# Impressão feia\n",
    "print(soup.contents)"
   ]
  },
  {
   "cell_type": "code",
   "execution_count": 4,
   "metadata": {},
   "outputs": [
    {
     "name": "stdout",
     "output_type": "stream",
     "text": [
      "<!DOCTYPE html>\n",
      "<html lang=\"en-US\">\n",
      " <head>\n",
      "  <meta charset=\"utf-8\"/>\n",
      "  <title>\n",
      "   Ola pessoal\n",
      "  </title>\n",
      " </head>\n",
      " <body>\n",
      "  <h1>\n",
      "   Título\n",
      "  </h1>\n",
      "  <p>\n",
      "   Aqui podemos ter um monte de texto\n",
      "  </p>\n",
      "  <ul id=\"Lista não ordenada 1\">\n",
      "   <li>\n",
      "    Element 1\n",
      "   </li>\n",
      "   <li>\n",
      "    Element 2\n",
      "   </li>\n",
      "   <li>\n",
      "    Element 3\n",
      "   </li>\n",
      "  </ul>\n",
      "  <ul id=\"hmm\">\n",
      "   <li>\n",
      "    la\n",
      "   </li>\n",
      "   <li>\n",
      "    lala\n",
      "   </li>\n",
      "   <li>\n",
      "    lalala\n",
      "   </li>\n",
      "  </ul>\n",
      "  <h2 id=\"hmm\">\n",
      "   hmm\n",
      "  </h2>\n",
      "  <h2>\n",
      "   Título menor\n",
      "  </h2>\n",
      " </body>\n",
      "</html>\n",
      "\n"
     ]
    }
   ],
   "source": [
    "# Impressão melhor\n",
    "print(soup.prettify())"
   ]
  },
  {
   "cell_type": "markdown",
   "metadata": {},
   "source": [
    "# Atributos\n",
    "\n",
    "- - - \n",
    "\n",
    "<br>\n",
    "<br>\n",
    "<br>\n",
    "<br>\n",
    "<br>\n",
    "<br>\n",
    "<br>\n",
    "<br>\n",
    "<br>\n",
    "<br>\n",
    "<br>\n",
    "<br>"
   ]
  },
  {
   "cell_type": "code",
   "execution_count": 5,
   "metadata": {},
   "outputs": [
    {
     "data": {
      "text/plain": [
       "<title>Ola pessoal</title>"
      ]
     },
     "execution_count": 5,
     "metadata": {},
     "output_type": "execute_result"
    }
   ],
   "source": [
    "soup.title"
   ]
  },
  {
   "cell_type": "code",
   "execution_count": 6,
   "metadata": {},
   "outputs": [
    {
     "data": {
      "text/plain": [
       "'Ola pessoal'"
      ]
     },
     "execution_count": 6,
     "metadata": {},
     "output_type": "execute_result"
    }
   ],
   "source": [
    "soup.title.string"
   ]
  },
  {
   "cell_type": "markdown",
   "metadata": {},
   "source": [
    "# Busca\n",
    "\n",
    "- - - \n",
    "\n",
    "<br>\n",
    "<br>\n",
    "<br>\n",
    "<br>\n",
    "<br>\n",
    "<br>\n",
    "<br>\n",
    "<br>\n",
    "<br>\n",
    "<br>\n",
    "<br>\n",
    "<br>"
   ]
  },
  {
   "cell_type": "code",
   "execution_count": 7,
   "metadata": {},
   "outputs": [],
   "source": [
    "all_uls = soup.find_all('ul')"
   ]
  },
  {
   "cell_type": "code",
   "execution_count": 8,
   "metadata": {},
   "outputs": [
    {
     "data": {
      "text/plain": [
       "[<ul id=\"Lista não ordenada 1\">\n",
       " <li>Element 1</li>\n",
       " <li>Element 2</li>\n",
       " <li>Element 3</li>\n",
       " </ul>, <ul id=\"hmm\">\n",
       " <li>la</li>\n",
       " <li>lala</li>\n",
       " <li>lalala</li>\n",
       " </ul>]"
      ]
     },
     "execution_count": 8,
     "metadata": {},
     "output_type": "execute_result"
    }
   ],
   "source": [
    "all_uls"
   ]
  },
  {
   "cell_type": "code",
   "execution_count": 9,
   "metadata": {},
   "outputs": [
    {
     "data": {
      "text/plain": [
       "<ul id=\"Lista não ordenada 1\">\n",
       "<li>Element 1</li>\n",
       "<li>Element 2</li>\n",
       "<li>Element 3</li>\n",
       "</ul>"
      ]
     },
     "execution_count": 9,
     "metadata": {},
     "output_type": "execute_result"
    }
   ],
   "source": [
    "all_uls[0]"
   ]
  },
  {
   "cell_type": "code",
   "execution_count": 10,
   "metadata": {},
   "outputs": [
    {
     "name": "stdout",
     "output_type": "stream",
     "text": [
      "<ul id=\"hmm\">\n",
      " <li>\n",
      "  la\n",
      " </li>\n",
      " <li>\n",
      "  lala\n",
      " </li>\n",
      " <li>\n",
      "  lalala\n",
      " </li>\n",
      "</ul>\n",
      "\n"
     ]
    }
   ],
   "source": [
    "print(all_uls[1].prettify())"
   ]
  },
  {
   "cell_type": "code",
   "execution_count": 11,
   "metadata": {},
   "outputs": [
    {
     "data": {
      "text/plain": [
       "2"
      ]
     },
     "execution_count": 11,
     "metadata": {},
     "output_type": "execute_result"
    }
   ],
   "source": [
    "len(all_uls)"
   ]
  },
  {
   "cell_type": "code",
   "execution_count": 12,
   "metadata": {},
   "outputs": [
    {
     "data": {
      "text/plain": [
       "[<li>Element 1</li>,\n",
       " <li>Element 2</li>,\n",
       " <li>Element 3</li>,\n",
       " <li>la</li>,\n",
       " <li>lala</li>,\n",
       " <li>lalala</li>]"
      ]
     },
     "execution_count": 12,
     "metadata": {},
     "output_type": "execute_result"
    }
   ],
   "source": [
    "soup.find_all('li')"
   ]
  },
  {
   "cell_type": "markdown",
   "metadata": {},
   "source": [
    "# Mais busca\n",
    "\n",
    "- - - \n",
    "\n",
    "<br>\n",
    "<br>\n",
    "<br>\n",
    "<br>\n",
    "<br>\n",
    "<br>\n",
    "<br>\n",
    "<br>\n",
    "<br>\n",
    "<br>\n",
    "<br>\n",
    "<br>"
   ]
  },
  {
   "cell_type": "code",
   "execution_count": 13,
   "metadata": {},
   "outputs": [
    {
     "data": {
      "text/plain": [
       "[<ul id=\"hmm\">\n",
       " <li>la</li>\n",
       " <li>lala</li>\n",
       " <li>lalala</li>\n",
       " </ul>, <h2 id=\"hmm\"> hmm </h2>]"
      ]
     },
     "execution_count": 13,
     "metadata": {},
     "output_type": "execute_result"
    }
   ],
   "source": [
    "soup.find_all(id=\"hmm\")"
   ]
  },
  {
   "cell_type": "code",
   "execution_count": 14,
   "metadata": {},
   "outputs": [
    {
     "data": {
      "text/plain": [
       "[<ul id=\"hmm\">\n",
       " <li>la</li>\n",
       " <li>lala</li>\n",
       " <li>lalala</li>\n",
       " </ul>]"
      ]
     },
     "execution_count": 14,
     "metadata": {},
     "output_type": "execute_result"
    }
   ],
   "source": [
    "soup.find_all(\"ul\", {\"id\": \"hmm\"})"
   ]
  },
  {
   "cell_type": "code",
   "execution_count": 7,
   "metadata": {},
   "outputs": [
    {
     "data": {
      "text/plain": [
       "<ul id=\"Lista não ordenada 1\">\n",
       "<li>Element 1</li>\n",
       "<li>Element 2</li>\n",
       "<li>Element 3</li>\n",
       "</ul>"
      ]
     },
     "execution_count": 7,
     "metadata": {},
     "output_type": "execute_result"
    }
   ],
   "source": [
    "# Encontrar primeiro\n",
    "test = soup.find(\"ul\")\n",
    "test"
   ]
  },
  {
   "cell_type": "code",
   "execution_count": 8,
   "metadata": {
    "scrolled": true
   },
   "outputs": [
    {
     "name": "stdout",
     "output_type": "stream",
     "text": [
      "None\n"
     ]
    }
   ],
   "source": [
    "test = soup.find(\"h3\")\n",
    "print(test)"
   ]
  },
  {
   "cell_type": "markdown",
   "metadata": {},
   "source": [
    "# Dúvidas até aqui?\n",
    "\n",
    "- - - \n",
    "\n",
    "<br>\n",
    "<br>\n",
    "<br>\n",
    "<br>\n",
    "<br>\n",
    "<br>\n",
    "<br>\n",
    "<br>\n",
    "<br>\n",
    "<br>\n",
    "<br>\n",
    "<br>"
   ]
  }
 ],
 "metadata": {
  "kernelspec": {
   "display_name": "Python 3",
   "language": "python",
   "name": "python3"
  },
  "language_info": {
   "codemirror_mode": {
    "name": "ipython",
    "version": 3
   },
   "file_extension": ".py",
   "mimetype": "text/x-python",
   "name": "python",
   "nbconvert_exporter": "python",
   "pygments_lexer": "ipython3",
   "version": "3.6.7"
  },
  "toc": {
   "base_numbering": 1,
   "nav_menu": {},
   "number_sections": true,
   "sideBar": true,
   "skip_h1_title": false,
   "title_cell": "Table of Contents",
   "title_sidebar": "Contents",
   "toc_cell": false,
   "toc_position": {},
   "toc_section_display": true,
   "toc_window_display": false
  }
 },
 "nbformat": 4,
 "nbformat_minor": 2
}
